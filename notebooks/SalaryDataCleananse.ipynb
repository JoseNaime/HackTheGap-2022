{
 "cells": [
  {
   "cell_type": "code",
   "execution_count": 32,
   "metadata": {
    "collapsed": true,
    "pycharm": {
     "name": "#%%\n"
    }
   },
   "outputs": [],
   "source": [
    "import pandas as pd"
   ]
  },
  {
   "cell_type": "code",
   "execution_count": 102,
   "outputs": [
    {
     "data": {
      "text/plain": "      Genero Region Campus Escuela Programa_Ini PrepaTEC     PAA   PNA  \\\n0  Masculino    RCS    QRO     EIC           IA       NO     NaN   NaN   \n1   Femenino     RO    GDL     EIC          IIS       SI  1466.0  94.0   \n2  Masculino     RO    GDL      EN          LAF       SI     NaN  80.0   \n3  Masculino     RO    HER     EIC          IMT       SI  1445.0  96.0   \n4  Masculino     RO    HER     EIC          IIS       SI     NaN  85.0   \n\n   P_Beca  P_Prestamo Life  PI Experiencia  TOEFL  Promedio_Gr  Sueldo_Real  \n0    0.00        0.00   No  SI          Sí  550.0     75333.00      13000.0  \n1    0.15        0.25   No  SI          No  620.0     87385.00       8500.0  \n2    0.00        0.15   No  SI          Sí  577.0     84724.00      46000.0  \n3    0.40        0.20   Si  SI          Sí  677.0     92475.00      46000.0  \n4    0.40        0.00   Si  SI          Sí  583.0        86.95      15000.0  ",
      "text/html": "<div>\n<style scoped>\n    .dataframe tbody tr th:only-of-type {\n        vertical-align: middle;\n    }\n\n    .dataframe tbody tr th {\n        vertical-align: top;\n    }\n\n    .dataframe thead th {\n        text-align: right;\n    }\n</style>\n<table border=\"1\" class=\"dataframe\">\n  <thead>\n    <tr style=\"text-align: right;\">\n      <th></th>\n      <th>Genero</th>\n      <th>Region</th>\n      <th>Campus</th>\n      <th>Escuela</th>\n      <th>Programa_Ini</th>\n      <th>PrepaTEC</th>\n      <th>PAA</th>\n      <th>PNA</th>\n      <th>P_Beca</th>\n      <th>P_Prestamo</th>\n      <th>Life</th>\n      <th>PI</th>\n      <th>Experiencia</th>\n      <th>TOEFL</th>\n      <th>Promedio_Gr</th>\n      <th>Sueldo_Real</th>\n    </tr>\n  </thead>\n  <tbody>\n    <tr>\n      <th>0</th>\n      <td>Masculino</td>\n      <td>RCS</td>\n      <td>QRO</td>\n      <td>EIC</td>\n      <td>IA</td>\n      <td>NO</td>\n      <td>NaN</td>\n      <td>NaN</td>\n      <td>0.00</td>\n      <td>0.00</td>\n      <td>No</td>\n      <td>SI</td>\n      <td>Sí</td>\n      <td>550.0</td>\n      <td>75333.00</td>\n      <td>13000.0</td>\n    </tr>\n    <tr>\n      <th>1</th>\n      <td>Femenino</td>\n      <td>RO</td>\n      <td>GDL</td>\n      <td>EIC</td>\n      <td>IIS</td>\n      <td>SI</td>\n      <td>1466.0</td>\n      <td>94.0</td>\n      <td>0.15</td>\n      <td>0.25</td>\n      <td>No</td>\n      <td>SI</td>\n      <td>No</td>\n      <td>620.0</td>\n      <td>87385.00</td>\n      <td>8500.0</td>\n    </tr>\n    <tr>\n      <th>2</th>\n      <td>Masculino</td>\n      <td>RO</td>\n      <td>GDL</td>\n      <td>EN</td>\n      <td>LAF</td>\n      <td>SI</td>\n      <td>NaN</td>\n      <td>80.0</td>\n      <td>0.00</td>\n      <td>0.15</td>\n      <td>No</td>\n      <td>SI</td>\n      <td>Sí</td>\n      <td>577.0</td>\n      <td>84724.00</td>\n      <td>46000.0</td>\n    </tr>\n    <tr>\n      <th>3</th>\n      <td>Masculino</td>\n      <td>RO</td>\n      <td>HER</td>\n      <td>EIC</td>\n      <td>IMT</td>\n      <td>SI</td>\n      <td>1445.0</td>\n      <td>96.0</td>\n      <td>0.40</td>\n      <td>0.20</td>\n      <td>Si</td>\n      <td>SI</td>\n      <td>Sí</td>\n      <td>677.0</td>\n      <td>92475.00</td>\n      <td>46000.0</td>\n    </tr>\n    <tr>\n      <th>4</th>\n      <td>Masculino</td>\n      <td>RO</td>\n      <td>HER</td>\n      <td>EIC</td>\n      <td>IIS</td>\n      <td>SI</td>\n      <td>NaN</td>\n      <td>85.0</td>\n      <td>0.40</td>\n      <td>0.00</td>\n      <td>Si</td>\n      <td>SI</td>\n      <td>Sí</td>\n      <td>583.0</td>\n      <td>86.95</td>\n      <td>15000.0</td>\n    </tr>\n  </tbody>\n</table>\n</div>"
     },
     "execution_count": 102,
     "metadata": {},
     "output_type": "execute_result"
    }
   ],
   "source": [
    "df = pd.read_csv('../data/BD_Sueldos_CSV.csv')\n",
    "\n",
    "# Delete unnecessary columns (Folio, Periodo, Edad, <anonymous>)\n",
    "df.drop(['Folio', 'Periodo', 'Edad', 'Sueldo_Nominal', 'Unnamed: 20', 'Unnamed: 21'],\n",
    "        axis=1,\n",
    "        inplace=True)\n",
    "\n",
    "# Remove rows with all missing values\n",
    "df.dropna(how='all',\n",
    "          inplace=True)\n",
    "\n",
    "df.head(5)"
   ],
   "metadata": {
    "collapsed": false,
    "pycharm": {
     "name": "#%%\n"
    }
   }
  },
  {
   "cell_type": "code",
   "execution_count": 103,
   "outputs": [],
   "source": [
    "# Replace missing values in 'Sueldo_Real', 'Promedio_Gr', 'P_Prestamo', 'PNA', 'PAA', 'TOEFL' with the most frequent value\n",
    "df['Sueldo_Real'].fillna(df['Sueldo_Real'].mode()[0], inplace=True)\n",
    "df['Promedio_Gr'].fillna(df['Promedio_Gr'].mode()[0], inplace=True)\n",
    "df['P_Prestamo'].fillna(df['P_Prestamo'].mode()[0], inplace=True)\n",
    "df['PNA'].fillna(df['PNA'].mode()[0], inplace=True)\n",
    "df['PAA'].fillna(df['PAA'].mode()[0], inplace=True)\n",
    "df['TOEFL'].fillna(df['TOEFL'].mode()[0], inplace=True)\n"
   ],
   "metadata": {
    "collapsed": false,
    "pycharm": {
     "name": "#%%\n"
    }
   }
  },
  {
   "cell_type": "code",
   "execution_count": 104,
   "outputs": [
    {
     "name": "stdout",
     "output_type": "stream",
     "text": [
      "Genero          0.0\n",
      "Region          0.0\n",
      "Campus          0.0\n",
      "Escuela         0.0\n",
      "Programa_Ini    0.0\n",
      "PrepaTEC        0.0\n",
      "PAA             0.0\n",
      "PNA             0.0\n",
      "P_Beca          0.0\n",
      "P_Prestamo      0.0\n",
      "Life            0.0\n",
      "PI              0.0\n",
      "Experiencia     0.0\n",
      "TOEFL           0.0\n",
      "Promedio_Gr     0.0\n",
      "Sueldo_Real     0.0\n",
      "dtype: float64\n"
     ]
    }
   ],
   "source": [
    "number_of_rows = df.shape[0]\n",
    "\n",
    "# Display the percentage of empty values of each column\n",
    "percentage_null_values_for_column = (df.isnull().sum() / number_of_rows) * 100\n",
    "# Sort the values by the percentage of null values\n",
    "percentage_null_values_for_column = percentage_null_values_for_column.sort_values(ascending=False)\n",
    "print(percentage_null_values_for_column)"
   ],
   "metadata": {
    "collapsed": false,
    "pycharm": {
     "name": "#%%\n"
    }
   }
  },
  {
   "cell_type": "code",
   "execution_count": 105,
   "outputs": [
    {
     "name": "stdout",
     "output_type": "stream",
     "text": [
      "9 categorical columns: \n",
      " ['Genero', 'Region', 'Campus', 'Escuela', 'Programa_Ini', 'PrepaTEC', 'Life', 'PI', 'Experiencia'] \n",
      "\n",
      "7 numerical columns: \n",
      " ['PAA', 'PNA', 'P_Beca', 'P_Prestamo', 'TOEFL', 'Promedio_Gr', 'Sueldo_Real'] \n",
      "\n"
     ]
    }
   ],
   "source": [
    "#change objects to category and classify by dtypes\n",
    "categorical_columns = []\n",
    "numerical_columns = []\n",
    "\n",
    "for column in df.columns:\n",
    "    if df[column].dtype == 'object' or df[column].dtype == 'category':\n",
    "        df = df.astype({\n",
    "                               f'{column}': 'category'})\n",
    "        categorical_columns.append(column)\n",
    "    else:\n",
    "        numerical_columns.append(column)\n",
    "\n",
    "print('{0} categorical columns: \\n {1} \\n'.format(len(categorical_columns),\n",
    "                                                  categorical_columns))\n",
    "print('{0} numerical columns: \\n {1} \\n'.format(len(numerical_columns),\n",
    "                                                numerical_columns))\n",
    "\n"
   ],
   "metadata": {
    "collapsed": false,
    "pycharm": {
     "name": "#%%\n"
    }
   }
  },
  {
   "cell_type": "code",
   "execution_count": 106,
   "outputs": [],
   "source": [
    "# Export the dataframe to a csv file\n",
    "df.to_csv('../data/cleaned/BD_Sueldos_CSV_Cleaned.csv', index=False)"
   ],
   "metadata": {
    "collapsed": false,
    "pycharm": {
     "name": "#%%\n"
    }
   }
  },
  {
   "cell_type": "code",
   "execution_count": 99,
   "outputs": [
    {
     "data": {
      "text/plain": "    Genero  Region  Campus   Escuela  Programa_Ini  PrepaTEC     PAA   PNA  \\\n0     0.25     0.6    0.16  0.333333      0.134615       0.0  1487.0  90.0   \n1     0.25     0.2    0.04  0.333333      0.019231       0.5  1466.0  94.0   \n2     0.25     0.2    0.04  0.166667      0.038462       0.5  1487.0  80.0   \n3     0.25     0.2    0.08  0.333333      0.057692       0.5  1445.0  96.0   \n4     0.25     0.2    0.08  0.333333      0.019231       0.5  1487.0  85.0   \n5     0.25     0.2    0.04  0.333333      0.076923       0.5  1583.0  95.0   \n6     0.25     0.2    0.04  0.166667      0.038462       0.5  1487.0  92.0   \n7     0.25     0.4    0.12  0.166667      0.096154       0.5  1487.0  90.0   \n8     0.25     0.6    0.16  0.333333      0.019231       0.5  1487.0  92.0   \n9     0.25     0.2    0.08  0.333333      0.115385       0.5  1487.0  90.0   \n10    0.25     0.2    0.04  0.333333      0.057692       0.5  1486.0  98.0   \n11    0.25     0.2    0.08  0.333333      0.019231       0.5  1288.0  90.0   \n12    0.25     0.2    0.04  0.333333      0.019231       0.5  1456.0  93.0   \n13    0.25     0.2    0.04  0.333333      0.019231       0.5  1572.0  95.0   \n14    0.25     0.6    0.16  0.333333      0.134615       0.5  1487.0  86.0   \n\n    P_Beca  P_Prestamo  Life   PI  Experiencia  TOEFL  Promedio_Gr  \\\n0     0.00        0.00   0.0  0.5     0.333333  550.0     75333.00   \n1     0.15        0.25   0.0  0.5     0.333333  620.0     87385.00   \n2     0.00        0.15   0.0  0.5     0.333333  577.0     84724.00   \n3     0.40        0.20   0.5  0.5     0.333333  677.0     92475.00   \n4     0.40        0.00   0.5  0.5     0.333333  583.0        86.95   \n5     0.80        0.00   0.0  0.5     0.333333  650.0     93701.00   \n6     0.50        0.00   0.0  0.5     0.333333  570.0     88949.00   \n7     0.00        0.00   0.0  0.5     0.333333  623.0     88508.00   \n8     0.20        0.00   0.0  0.5     0.333333  550.0        90.75   \n9     0.00        0.00   0.0  0.5     0.333333  550.0     78847.00   \n10    0.50        0.00   0.5  0.5     0.333333  600.0        96.54   \n11    0.40        0.40   0.5  0.5     0.333333  550.0     92483.00   \n12    0.20        0.10   0.5  0.5     0.333333  550.0     85433.00   \n13    0.80        0.00   0.5  0.5     0.333333  577.0     92466.00   \n14    0.00        0.00   0.0  0.5     0.333333  550.0     80471.00   \n\n    Sueldo_Real  \n0       13000.0  \n1        8500.0  \n2       46000.0  \n3       46000.0  \n4       15000.0  \n5       37000.0  \n6       15000.0  \n7       12000.0  \n8       21000.0  \n9       26000.0  \n10    1100000.0  \n11      14600.0  \n12       6500.0  \n13      18000.0  \n14       8000.0  ",
      "text/html": "<div>\n<style scoped>\n    .dataframe tbody tr th:only-of-type {\n        vertical-align: middle;\n    }\n\n    .dataframe tbody tr th {\n        vertical-align: top;\n    }\n\n    .dataframe thead th {\n        text-align: right;\n    }\n</style>\n<table border=\"1\" class=\"dataframe\">\n  <thead>\n    <tr style=\"text-align: right;\">\n      <th></th>\n      <th>Genero</th>\n      <th>Region</th>\n      <th>Campus</th>\n      <th>Escuela</th>\n      <th>Programa_Ini</th>\n      <th>PrepaTEC</th>\n      <th>PAA</th>\n      <th>PNA</th>\n      <th>P_Beca</th>\n      <th>P_Prestamo</th>\n      <th>Life</th>\n      <th>PI</th>\n      <th>Experiencia</th>\n      <th>TOEFL</th>\n      <th>Promedio_Gr</th>\n      <th>Sueldo_Real</th>\n    </tr>\n  </thead>\n  <tbody>\n    <tr>\n      <th>0</th>\n      <td>0.25</td>\n      <td>0.6</td>\n      <td>0.16</td>\n      <td>0.333333</td>\n      <td>0.134615</td>\n      <td>0.0</td>\n      <td>1487.0</td>\n      <td>90.0</td>\n      <td>0.00</td>\n      <td>0.00</td>\n      <td>0.0</td>\n      <td>0.5</td>\n      <td>0.333333</td>\n      <td>550.0</td>\n      <td>75333.00</td>\n      <td>13000.0</td>\n    </tr>\n    <tr>\n      <th>1</th>\n      <td>0.25</td>\n      <td>0.2</td>\n      <td>0.04</td>\n      <td>0.333333</td>\n      <td>0.019231</td>\n      <td>0.5</td>\n      <td>1466.0</td>\n      <td>94.0</td>\n      <td>0.15</td>\n      <td>0.25</td>\n      <td>0.0</td>\n      <td>0.5</td>\n      <td>0.333333</td>\n      <td>620.0</td>\n      <td>87385.00</td>\n      <td>8500.0</td>\n    </tr>\n    <tr>\n      <th>2</th>\n      <td>0.25</td>\n      <td>0.2</td>\n      <td>0.04</td>\n      <td>0.166667</td>\n      <td>0.038462</td>\n      <td>0.5</td>\n      <td>1487.0</td>\n      <td>80.0</td>\n      <td>0.00</td>\n      <td>0.15</td>\n      <td>0.0</td>\n      <td>0.5</td>\n      <td>0.333333</td>\n      <td>577.0</td>\n      <td>84724.00</td>\n      <td>46000.0</td>\n    </tr>\n    <tr>\n      <th>3</th>\n      <td>0.25</td>\n      <td>0.2</td>\n      <td>0.08</td>\n      <td>0.333333</td>\n      <td>0.057692</td>\n      <td>0.5</td>\n      <td>1445.0</td>\n      <td>96.0</td>\n      <td>0.40</td>\n      <td>0.20</td>\n      <td>0.5</td>\n      <td>0.5</td>\n      <td>0.333333</td>\n      <td>677.0</td>\n      <td>92475.00</td>\n      <td>46000.0</td>\n    </tr>\n    <tr>\n      <th>4</th>\n      <td>0.25</td>\n      <td>0.2</td>\n      <td>0.08</td>\n      <td>0.333333</td>\n      <td>0.019231</td>\n      <td>0.5</td>\n      <td>1487.0</td>\n      <td>85.0</td>\n      <td>0.40</td>\n      <td>0.00</td>\n      <td>0.5</td>\n      <td>0.5</td>\n      <td>0.333333</td>\n      <td>583.0</td>\n      <td>86.95</td>\n      <td>15000.0</td>\n    </tr>\n    <tr>\n      <th>5</th>\n      <td>0.25</td>\n      <td>0.2</td>\n      <td>0.04</td>\n      <td>0.333333</td>\n      <td>0.076923</td>\n      <td>0.5</td>\n      <td>1583.0</td>\n      <td>95.0</td>\n      <td>0.80</td>\n      <td>0.00</td>\n      <td>0.0</td>\n      <td>0.5</td>\n      <td>0.333333</td>\n      <td>650.0</td>\n      <td>93701.00</td>\n      <td>37000.0</td>\n    </tr>\n    <tr>\n      <th>6</th>\n      <td>0.25</td>\n      <td>0.2</td>\n      <td>0.04</td>\n      <td>0.166667</td>\n      <td>0.038462</td>\n      <td>0.5</td>\n      <td>1487.0</td>\n      <td>92.0</td>\n      <td>0.50</td>\n      <td>0.00</td>\n      <td>0.0</td>\n      <td>0.5</td>\n      <td>0.333333</td>\n      <td>570.0</td>\n      <td>88949.00</td>\n      <td>15000.0</td>\n    </tr>\n    <tr>\n      <th>7</th>\n      <td>0.25</td>\n      <td>0.4</td>\n      <td>0.12</td>\n      <td>0.166667</td>\n      <td>0.096154</td>\n      <td>0.5</td>\n      <td>1487.0</td>\n      <td>90.0</td>\n      <td>0.00</td>\n      <td>0.00</td>\n      <td>0.0</td>\n      <td>0.5</td>\n      <td>0.333333</td>\n      <td>623.0</td>\n      <td>88508.00</td>\n      <td>12000.0</td>\n    </tr>\n    <tr>\n      <th>8</th>\n      <td>0.25</td>\n      <td>0.6</td>\n      <td>0.16</td>\n      <td>0.333333</td>\n      <td>0.019231</td>\n      <td>0.5</td>\n      <td>1487.0</td>\n      <td>92.0</td>\n      <td>0.20</td>\n      <td>0.00</td>\n      <td>0.0</td>\n      <td>0.5</td>\n      <td>0.333333</td>\n      <td>550.0</td>\n      <td>90.75</td>\n      <td>21000.0</td>\n    </tr>\n    <tr>\n      <th>9</th>\n      <td>0.25</td>\n      <td>0.2</td>\n      <td>0.08</td>\n      <td>0.333333</td>\n      <td>0.115385</td>\n      <td>0.5</td>\n      <td>1487.0</td>\n      <td>90.0</td>\n      <td>0.00</td>\n      <td>0.00</td>\n      <td>0.0</td>\n      <td>0.5</td>\n      <td>0.333333</td>\n      <td>550.0</td>\n      <td>78847.00</td>\n      <td>26000.0</td>\n    </tr>\n    <tr>\n      <th>10</th>\n      <td>0.25</td>\n      <td>0.2</td>\n      <td>0.04</td>\n      <td>0.333333</td>\n      <td>0.057692</td>\n      <td>0.5</td>\n      <td>1486.0</td>\n      <td>98.0</td>\n      <td>0.50</td>\n      <td>0.00</td>\n      <td>0.5</td>\n      <td>0.5</td>\n      <td>0.333333</td>\n      <td>600.0</td>\n      <td>96.54</td>\n      <td>1100000.0</td>\n    </tr>\n    <tr>\n      <th>11</th>\n      <td>0.25</td>\n      <td>0.2</td>\n      <td>0.08</td>\n      <td>0.333333</td>\n      <td>0.019231</td>\n      <td>0.5</td>\n      <td>1288.0</td>\n      <td>90.0</td>\n      <td>0.40</td>\n      <td>0.40</td>\n      <td>0.5</td>\n      <td>0.5</td>\n      <td>0.333333</td>\n      <td>550.0</td>\n      <td>92483.00</td>\n      <td>14600.0</td>\n    </tr>\n    <tr>\n      <th>12</th>\n      <td>0.25</td>\n      <td>0.2</td>\n      <td>0.04</td>\n      <td>0.333333</td>\n      <td>0.019231</td>\n      <td>0.5</td>\n      <td>1456.0</td>\n      <td>93.0</td>\n      <td>0.20</td>\n      <td>0.10</td>\n      <td>0.5</td>\n      <td>0.5</td>\n      <td>0.333333</td>\n      <td>550.0</td>\n      <td>85433.00</td>\n      <td>6500.0</td>\n    </tr>\n    <tr>\n      <th>13</th>\n      <td>0.25</td>\n      <td>0.2</td>\n      <td>0.04</td>\n      <td>0.333333</td>\n      <td>0.019231</td>\n      <td>0.5</td>\n      <td>1572.0</td>\n      <td>95.0</td>\n      <td>0.80</td>\n      <td>0.00</td>\n      <td>0.5</td>\n      <td>0.5</td>\n      <td>0.333333</td>\n      <td>577.0</td>\n      <td>92466.00</td>\n      <td>18000.0</td>\n    </tr>\n    <tr>\n      <th>14</th>\n      <td>0.25</td>\n      <td>0.6</td>\n      <td>0.16</td>\n      <td>0.333333</td>\n      <td>0.134615</td>\n      <td>0.5</td>\n      <td>1487.0</td>\n      <td>86.0</td>\n      <td>0.00</td>\n      <td>0.00</td>\n      <td>0.0</td>\n      <td>0.5</td>\n      <td>0.333333</td>\n      <td>550.0</td>\n      <td>80471.00</td>\n      <td>8000.0</td>\n    </tr>\n  </tbody>\n</table>\n</div>"
     },
     "execution_count": 99,
     "metadata": {},
     "output_type": "execute_result"
    }
   ],
   "source": [
    "def replace_categorical(df,\n",
    "                        col_name,\n",
    "                        category_lst):\n",
    "    cardinality = len(category_lst)\n",
    "\n",
    "    count = 0\n",
    "    for category in category_lst:\n",
    "        df[col_name].replace([category],\n",
    "                             [count / cardinality],\n",
    "                             inplace=True)\n",
    "        count += 1\n",
    "\n",
    "if True:\n",
    "    for column in categorical_columns:\n",
    "        replace_categorical(df,\n",
    "                            column,\n",
    "                            df[column].unique())\n",
    "df.head(15)"
   ],
   "metadata": {
    "collapsed": false,
    "pycharm": {
     "name": "#%%\n"
    }
   }
  },
  {
   "cell_type": "code",
   "execution_count": 98,
   "outputs": [
    {
     "ename": "AttributeError",
     "evalue": "Can only use .cat accessor with a 'category' dtype",
     "output_type": "error",
     "traceback": [
      "\u001B[0;31m---------------------------------------------------------------------------\u001B[0m",
      "\u001B[0;31mAttributeError\u001B[0m                            Traceback (most recent call last)",
      "Input \u001B[0;32mIn [98]\u001B[0m, in \u001B[0;36m<cell line: 2>\u001B[0;34m()\u001B[0m\n\u001B[1;32m      1\u001B[0m \u001B[38;5;66;03m# Convert each categorical column to a numerical column\u001B[39;00m\n\u001B[1;32m      2\u001B[0m \u001B[38;5;28;01mfor\u001B[39;00m column \u001B[38;5;129;01min\u001B[39;00m categorical_columns:\n\u001B[0;32m----> 3\u001B[0m     df[column] \u001B[38;5;241m=\u001B[39m \u001B[43mdf\u001B[49m\u001B[43m[\u001B[49m\u001B[43mcolumn\u001B[49m\u001B[43m]\u001B[49m\u001B[38;5;241;43m.\u001B[39;49m\u001B[43mcat\u001B[49m\u001B[38;5;241m.\u001B[39mcodes\n",
      "File \u001B[0;32m~/Library/Mobile Documents/com~apple~CloudDocs/Python Scripts/HackTheGap2022/venv/lib/python3.9/site-packages/pandas/core/generic.py:5575\u001B[0m, in \u001B[0;36mNDFrame.__getattr__\u001B[0;34m(self, name)\u001B[0m\n\u001B[1;32m   5568\u001B[0m \u001B[38;5;28;01mif\u001B[39;00m (\n\u001B[1;32m   5569\u001B[0m     name \u001B[38;5;129;01mnot\u001B[39;00m \u001B[38;5;129;01min\u001B[39;00m \u001B[38;5;28mself\u001B[39m\u001B[38;5;241m.\u001B[39m_internal_names_set\n\u001B[1;32m   5570\u001B[0m     \u001B[38;5;129;01mand\u001B[39;00m name \u001B[38;5;129;01mnot\u001B[39;00m \u001B[38;5;129;01min\u001B[39;00m \u001B[38;5;28mself\u001B[39m\u001B[38;5;241m.\u001B[39m_metadata\n\u001B[1;32m   5571\u001B[0m     \u001B[38;5;129;01mand\u001B[39;00m name \u001B[38;5;129;01mnot\u001B[39;00m \u001B[38;5;129;01min\u001B[39;00m \u001B[38;5;28mself\u001B[39m\u001B[38;5;241m.\u001B[39m_accessors\n\u001B[1;32m   5572\u001B[0m     \u001B[38;5;129;01mand\u001B[39;00m \u001B[38;5;28mself\u001B[39m\u001B[38;5;241m.\u001B[39m_info_axis\u001B[38;5;241m.\u001B[39m_can_hold_identifiers_and_holds_name(name)\n\u001B[1;32m   5573\u001B[0m ):\n\u001B[1;32m   5574\u001B[0m     \u001B[38;5;28;01mreturn\u001B[39;00m \u001B[38;5;28mself\u001B[39m[name]\n\u001B[0;32m-> 5575\u001B[0m \u001B[38;5;28;01mreturn\u001B[39;00m \u001B[38;5;28;43mobject\u001B[39;49m\u001B[38;5;241;43m.\u001B[39;49m\u001B[38;5;21;43m__getattribute__\u001B[39;49m\u001B[43m(\u001B[49m\u001B[38;5;28;43mself\u001B[39;49m\u001B[43m,\u001B[49m\u001B[43m \u001B[49m\u001B[43mname\u001B[49m\u001B[43m)\u001B[49m\n",
      "File \u001B[0;32m~/Library/Mobile Documents/com~apple~CloudDocs/Python Scripts/HackTheGap2022/venv/lib/python3.9/site-packages/pandas/core/accessor.py:182\u001B[0m, in \u001B[0;36mCachedAccessor.__get__\u001B[0;34m(self, obj, cls)\u001B[0m\n\u001B[1;32m    179\u001B[0m \u001B[38;5;28;01mif\u001B[39;00m obj \u001B[38;5;129;01mis\u001B[39;00m \u001B[38;5;28;01mNone\u001B[39;00m:\n\u001B[1;32m    180\u001B[0m     \u001B[38;5;66;03m# we're accessing the attribute of the class, i.e., Dataset.geo\u001B[39;00m\n\u001B[1;32m    181\u001B[0m     \u001B[38;5;28;01mreturn\u001B[39;00m \u001B[38;5;28mself\u001B[39m\u001B[38;5;241m.\u001B[39m_accessor\n\u001B[0;32m--> 182\u001B[0m accessor_obj \u001B[38;5;241m=\u001B[39m \u001B[38;5;28;43mself\u001B[39;49m\u001B[38;5;241;43m.\u001B[39;49m\u001B[43m_accessor\u001B[49m\u001B[43m(\u001B[49m\u001B[43mobj\u001B[49m\u001B[43m)\u001B[49m\n\u001B[1;32m    183\u001B[0m \u001B[38;5;66;03m# Replace the property with the accessor object. Inspired by:\u001B[39;00m\n\u001B[1;32m    184\u001B[0m \u001B[38;5;66;03m# https://www.pydanny.com/cached-property.html\u001B[39;00m\n\u001B[1;32m    185\u001B[0m \u001B[38;5;66;03m# We need to use object.__setattr__ because we overwrite __setattr__ on\u001B[39;00m\n\u001B[1;32m    186\u001B[0m \u001B[38;5;66;03m# NDFrame\u001B[39;00m\n\u001B[1;32m    187\u001B[0m \u001B[38;5;28mobject\u001B[39m\u001B[38;5;241m.\u001B[39m\u001B[38;5;21m__setattr__\u001B[39m(obj, \u001B[38;5;28mself\u001B[39m\u001B[38;5;241m.\u001B[39m_name, accessor_obj)\n",
      "File \u001B[0;32m~/Library/Mobile Documents/com~apple~CloudDocs/Python Scripts/HackTheGap2022/venv/lib/python3.9/site-packages/pandas/core/arrays/categorical.py:2717\u001B[0m, in \u001B[0;36mCategoricalAccessor.__init__\u001B[0;34m(self, data)\u001B[0m\n\u001B[1;32m   2716\u001B[0m \u001B[38;5;28;01mdef\u001B[39;00m \u001B[38;5;21m__init__\u001B[39m(\u001B[38;5;28mself\u001B[39m, data):\n\u001B[0;32m-> 2717\u001B[0m     \u001B[38;5;28;43mself\u001B[39;49m\u001B[38;5;241;43m.\u001B[39;49m\u001B[43m_validate\u001B[49m\u001B[43m(\u001B[49m\u001B[43mdata\u001B[49m\u001B[43m)\u001B[49m\n\u001B[1;32m   2718\u001B[0m     \u001B[38;5;28mself\u001B[39m\u001B[38;5;241m.\u001B[39m_parent \u001B[38;5;241m=\u001B[39m data\u001B[38;5;241m.\u001B[39mvalues\n\u001B[1;32m   2719\u001B[0m     \u001B[38;5;28mself\u001B[39m\u001B[38;5;241m.\u001B[39m_index \u001B[38;5;241m=\u001B[39m data\u001B[38;5;241m.\u001B[39mindex\n",
      "File \u001B[0;32m~/Library/Mobile Documents/com~apple~CloudDocs/Python Scripts/HackTheGap2022/venv/lib/python3.9/site-packages/pandas/core/arrays/categorical.py:2726\u001B[0m, in \u001B[0;36mCategoricalAccessor._validate\u001B[0;34m(data)\u001B[0m\n\u001B[1;32m   2723\u001B[0m \u001B[38;5;129m@staticmethod\u001B[39m\n\u001B[1;32m   2724\u001B[0m \u001B[38;5;28;01mdef\u001B[39;00m \u001B[38;5;21m_validate\u001B[39m(data):\n\u001B[1;32m   2725\u001B[0m     \u001B[38;5;28;01mif\u001B[39;00m \u001B[38;5;129;01mnot\u001B[39;00m is_categorical_dtype(data\u001B[38;5;241m.\u001B[39mdtype):\n\u001B[0;32m-> 2726\u001B[0m         \u001B[38;5;28;01mraise\u001B[39;00m \u001B[38;5;167;01mAttributeError\u001B[39;00m(\u001B[38;5;124m\"\u001B[39m\u001B[38;5;124mCan only use .cat accessor with a \u001B[39m\u001B[38;5;124m'\u001B[39m\u001B[38;5;124mcategory\u001B[39m\u001B[38;5;124m'\u001B[39m\u001B[38;5;124m dtype\u001B[39m\u001B[38;5;124m\"\u001B[39m)\n",
      "\u001B[0;31mAttributeError\u001B[0m: Can only use .cat accessor with a 'category' dtype"
     ]
    }
   ],
   "source": [
    "# Convert each categorical column to a numerical column\n",
    "for column in categorical_columns:\n",
    "    df[column] = df[column].cat.codes"
   ],
   "metadata": {
    "collapsed": false,
    "pycharm": {
     "name": "#%%\n"
    }
   }
  },
  {
   "cell_type": "code",
   "execution_count": 101,
   "outputs": [
    {
     "data": {
      "text/plain": "TOEFL           0.079975\nP_Beca          0.045230\nPAA             0.041948\nPNA             0.031278\nRegion          0.027081\nPrepaTEC        0.012400\nEscuela         0.012350\nPromedio_Gr     0.008420\nExperiencia    -0.003911\nP_Prestamo     -0.005546\nLife           -0.012364\nGenero         -0.018402\nCampus         -0.019877\nPrograma_Ini   -0.027416\nPI                   NaN\ndtype: float64"
     },
     "execution_count": 101,
     "metadata": {},
     "output_type": "execute_result"
    }
   ],
   "source": [
    "target = df['Sueldo_Real']\n",
    "df_without_sueldo = df.drop(['Sueldo_Real'],\n",
    "                            axis=1)\n",
    "# get correlation with \"Sueldo_Real\" column\n",
    "df_without_sueldo.corrwith(target, method='pearson').sort_values(ascending=False)"
   ],
   "metadata": {
    "collapsed": false,
    "pycharm": {
     "name": "#%%\n"
    }
   }
  }
 ],
 "metadata": {
  "kernelspec": {
   "display_name": "Python 3",
   "language": "python",
   "name": "python3"
  },
  "language_info": {
   "codemirror_mode": {
    "name": "ipython",
    "version": 2
   },
   "file_extension": ".py",
   "mimetype": "text/x-python",
   "name": "python",
   "nbconvert_exporter": "python",
   "pygments_lexer": "ipython2",
   "version": "2.7.6"
  }
 },
 "nbformat": 4,
 "nbformat_minor": 0
}