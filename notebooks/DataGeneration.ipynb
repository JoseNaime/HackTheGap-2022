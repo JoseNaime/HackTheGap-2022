{
 "cells": [
  {
   "cell_type": "code",
   "execution_count": 9,
   "metadata": {
    "collapsed": true,
    "pycharm": {
     "name": "#%%\n"
    }
   },
   "outputs": [],
   "source": [
    "import numpy as np\n",
    "import csv"
   ]
  },
  {
   "cell_type": "code",
   "execution_count": 20,
   "outputs": [],
   "source": [
    "title = \"Brecha_STEM_Publica\"\n",
    "percentages = [29.85, 70.15]\n",
    "header = [\"Genero\"]\n",
    "labels = ['Femenino', 'Masculino']\n",
    "amount_of_data = 1000\n",
    "\n",
    "if (percentages[0] + percentages[1]) != 100:\n",
    "    print(\"Error: percentages must sum up to 100\")\n",
    "    exit()"
   ],
   "metadata": {
    "collapsed": false,
    "pycharm": {
     "name": "#%%\n"
    }
   }
  },
  {
   "cell_type": "code",
   "execution_count": 21,
   "outputs": [
    {
     "name": "stdout",
     "output_type": "stream",
     "text": [
      "298 701\n"
     ]
    }
   ],
   "source": [
    "amount_of_label_one_data = int(amount_of_data * percentages[0] / 100)\n",
    "amount_of_label_two_data = int(amount_of_data * percentages[1] / 100)\n",
    "print(amount_of_label_one_data, amount_of_label_two_data)\n",
    "\n",
    "with open('./../data/generated/'+ title +'.csv',\n",
    "          'w') as csvfile:\n",
    "    # Clear data\n",
    "    csvfile.truncate()\n",
    "\n",
    "    # Write header\n",
    "\n",
    "    writer = csv.writer(csvfile, delimiter=',')\n",
    "    writer.writerow(header)\n",
    "\n",
    "    for i in range(amount_of_label_one_data):\n",
    "        writer.writerow([labels[0]])\n",
    "    for i in range(amount_of_label_two_data):\n",
    "        writer.writerow([labels[1]])"
   ],
   "metadata": {
    "collapsed": false,
    "pycharm": {
     "name": "#%%\n"
    }
   }
  },
  {
   "cell_type": "code",
   "execution_count": null,
   "outputs": [],
   "source": [],
   "metadata": {
    "collapsed": false,
    "pycharm": {
     "name": "#%%\n"
    }
   }
  }
 ],
 "metadata": {
  "kernelspec": {
   "display_name": "Python 3",
   "language": "python",
   "name": "python3"
  },
  "language_info": {
   "codemirror_mode": {
    "name": "ipython",
    "version": 2
   },
   "file_extension": ".py",
   "mimetype": "text/x-python",
   "name": "python",
   "nbconvert_exporter": "python",
   "pygments_lexer": "ipython2",
   "version": "2.7.6"
  }
 },
 "nbformat": 4,
 "nbformat_minor": 0
}