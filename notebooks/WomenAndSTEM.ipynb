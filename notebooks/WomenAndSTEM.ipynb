{
 "cells": [
  {
   "cell_type": "code",
   "execution_count": 77,
   "metadata": {
    "collapsed": true,
    "pycharm": {
     "name": "#%%\n"
    }
   },
   "outputs": [],
   "source": [
    "import pandas as pd;"
   ]
  },
  {
   "cell_type": "code",
   "execution_count": 78,
   "outputs": [
    {
     "data": {
      "text/plain": "    Escuela     Genero       Foraneo FGS  Rubrica_CyE  PromMate  Ingles  FTE  \\\n0  EHE-EAAD  Masculino  SI: Nacional  No          NaN      88.0       7  1.0   \n1      EMCS  Masculino  SI: Nacional  No         40.0      76.0       7  1.0   \n2  EAAD-EIC  Masculino  SI: Nacional  No          NaN      57.5       7  1.0   \n3       EIC  Masculino         Local  No          NaN      73.0       7  1.0   \n4  EHE-EAAD   Femenino  SI: Nacional  No          NaN      70.0       7  1.0   \n\n   P_Beca  P_Prestamo HijoMilitar Prog_Lider  Retencion1erA  Prom1erSem  \\\n0     0.0         0.0          NO         NO              0   70.000000   \n1     0.0         0.0          NO         NO              1   87.700000   \n2     0.0         0.0          NO         NO              1   75.333333   \n3     0.0         0.0          NO         NO              1   69.571429   \n4     0.0         0.0          NO         NO              1   88.333333   \n\n   Prom2doSem   Prom1erA  \n0       0.000  70.000000  \n1      88.000  88.527778  \n2      83.875  81.918919  \n3      81.000  68.388889  \n4      93.000  90.666667  ",
      "text/html": "<div>\n<style scoped>\n    .dataframe tbody tr th:only-of-type {\n        vertical-align: middle;\n    }\n\n    .dataframe tbody tr th {\n        vertical-align: top;\n    }\n\n    .dataframe thead th {\n        text-align: right;\n    }\n</style>\n<table border=\"1\" class=\"dataframe\">\n  <thead>\n    <tr style=\"text-align: right;\">\n      <th></th>\n      <th>Escuela</th>\n      <th>Genero</th>\n      <th>Foraneo</th>\n      <th>FGS</th>\n      <th>Rubrica_CyE</th>\n      <th>PromMate</th>\n      <th>Ingles</th>\n      <th>FTE</th>\n      <th>P_Beca</th>\n      <th>P_Prestamo</th>\n      <th>HijoMilitar</th>\n      <th>Prog_Lider</th>\n      <th>Retencion1erA</th>\n      <th>Prom1erSem</th>\n      <th>Prom2doSem</th>\n      <th>Prom1erA</th>\n    </tr>\n  </thead>\n  <tbody>\n    <tr>\n      <th>0</th>\n      <td>EHE-EAAD</td>\n      <td>Masculino</td>\n      <td>SI: Nacional</td>\n      <td>No</td>\n      <td>NaN</td>\n      <td>88.0</td>\n      <td>7</td>\n      <td>1.0</td>\n      <td>0.0</td>\n      <td>0.0</td>\n      <td>NO</td>\n      <td>NO</td>\n      <td>0</td>\n      <td>70.000000</td>\n      <td>0.000</td>\n      <td>70.000000</td>\n    </tr>\n    <tr>\n      <th>1</th>\n      <td>EMCS</td>\n      <td>Masculino</td>\n      <td>SI: Nacional</td>\n      <td>No</td>\n      <td>40.0</td>\n      <td>76.0</td>\n      <td>7</td>\n      <td>1.0</td>\n      <td>0.0</td>\n      <td>0.0</td>\n      <td>NO</td>\n      <td>NO</td>\n      <td>1</td>\n      <td>87.700000</td>\n      <td>88.000</td>\n      <td>88.527778</td>\n    </tr>\n    <tr>\n      <th>2</th>\n      <td>EAAD-EIC</td>\n      <td>Masculino</td>\n      <td>SI: Nacional</td>\n      <td>No</td>\n      <td>NaN</td>\n      <td>57.5</td>\n      <td>7</td>\n      <td>1.0</td>\n      <td>0.0</td>\n      <td>0.0</td>\n      <td>NO</td>\n      <td>NO</td>\n      <td>1</td>\n      <td>75.333333</td>\n      <td>83.875</td>\n      <td>81.918919</td>\n    </tr>\n    <tr>\n      <th>3</th>\n      <td>EIC</td>\n      <td>Masculino</td>\n      <td>Local</td>\n      <td>No</td>\n      <td>NaN</td>\n      <td>73.0</td>\n      <td>7</td>\n      <td>1.0</td>\n      <td>0.0</td>\n      <td>0.0</td>\n      <td>NO</td>\n      <td>NO</td>\n      <td>1</td>\n      <td>69.571429</td>\n      <td>81.000</td>\n      <td>68.388889</td>\n    </tr>\n    <tr>\n      <th>4</th>\n      <td>EHE-EAAD</td>\n      <td>Femenino</td>\n      <td>SI: Nacional</td>\n      <td>No</td>\n      <td>NaN</td>\n      <td>70.0</td>\n      <td>7</td>\n      <td>1.0</td>\n      <td>0.0</td>\n      <td>0.0</td>\n      <td>NO</td>\n      <td>NO</td>\n      <td>1</td>\n      <td>88.333333</td>\n      <td>93.000</td>\n      <td>90.666667</td>\n    </tr>\n  </tbody>\n</table>\n</div>"
     },
     "execution_count": 78,
     "metadata": {},
     "output_type": "execute_result"
    }
   ],
   "source": [
    "# mapCategorical: is exported file will contain the mapping of the categorical variables?\n",
    "mapCategorical = False\n",
    "df = pd.read_csv('../data/DB_1er_Año_CSV.csv')\n",
    "\n",
    "# Delete unnecessary columns ('Folio', 'Periodo', 'Nivel', 'PrepaTEC', 'Edad')\n",
    "df.drop(['Folio', 'Periodo', 'Nivel', 'PrepaTEC', 'Edad'],\n",
    "        axis=1,\n",
    "        inplace=True)\n",
    "\n",
    "df.head(5)"
   ],
   "metadata": {
    "collapsed": false,
    "pycharm": {
     "name": "#%%\n"
    }
   }
  },
  {
   "cell_type": "code",
   "execution_count": 79,
   "outputs": [
    {
     "name": "stdout",
     "output_type": "stream",
     "text": [
      "PromMate         52.766620\n",
      "Rubrica_CyE      44.847938\n",
      "Prom1erA          0.991885\n",
      "Escuela           0.000000\n",
      "Genero            0.000000\n",
      "Foraneo           0.000000\n",
      "FGS               0.000000\n",
      "Ingles            0.000000\n",
      "FTE               0.000000\n",
      "P_Beca            0.000000\n",
      "P_Prestamo        0.000000\n",
      "HijoMilitar       0.000000\n",
      "Prog_Lider        0.000000\n",
      "Retencion1erA     0.000000\n",
      "Prom1erSem        0.000000\n",
      "Prom2doSem        0.000000\n",
      "dtype: float64\n"
     ]
    }
   ],
   "source": [
    "number_of_rows = df.shape[0]\n",
    "\n",
    "# Display the percentage of empty values of each column\n",
    "percentage_null_values_for_column = (df.isnull().sum() / number_of_rows) * 100\n",
    "# Sort the values by the percentage of null values\n",
    "percentage_null_values_for_column = percentage_null_values_for_column.sort_values(ascending=False)\n",
    "print(percentage_null_values_for_column)"
   ],
   "metadata": {
    "collapsed": false,
    "pycharm": {
     "name": "#%%\n"
    }
   }
  },
  {
   "cell_type": "code",
   "execution_count": 80,
   "outputs": [],
   "source": [
    "# Replace the null values with the mean of the column 'PromMate'\n",
    "df['PromMate'].fillna(df['PromMate'].mean(),\n",
    "                      inplace=True)\n",
    "\n",
    "# Fill 'Rubrica_CyE' and 'prom1erA' with 0\n",
    "df['Rubrica_CyE'].fillna(0,\n",
    "                         inplace=True)\n",
    "df['Prom1erA'].fillna(0,\n",
    "                      inplace=True)"
   ],
   "metadata": {
    "collapsed": false,
    "pycharm": {
     "name": "#%%\n"
    }
   }
  },
  {
   "cell_type": "code",
   "execution_count": 80,
   "outputs": [],
   "source": [],
   "metadata": {
    "collapsed": false,
    "pycharm": {
     "name": "#%%\n"
    }
   }
  },
  {
   "cell_type": "code",
   "execution_count": 81,
   "outputs": [],
   "source": [
    "# Replace all the non Engineering and Science related columns with 'Otros'\n",
    "df[\"Escuela\"].replace(['EHE-EAAD', 'EMCS', 'ECSG', 'EN', 'ENE'],\n",
    "                      'Otros',\n",
    "                      inplace=True)\n",
    "\n",
    "# Replace all the Engineering and Science related columns with 'Ingenierias y Ciencias'\n",
    "df[\"Escuela\"].replace(['EIC', 'EAAD-EIC'],\n",
    "                      'Ingenierias y Ciencias',\n",
    "                      inplace=True)"
   ],
   "metadata": {
    "collapsed": false,
    "pycharm": {
     "name": "#%%# Replace EHE-EAAD, ECSG, EN and ENE with # Replace EHE-EAAD, ECSG, EN and ENE with OTHER\n"
    }
   }
  },
  {
   "cell_type": "code",
   "execution_count": 82,
   "outputs": [
    {
     "data": {
      "text/plain": "                  Escuela     Genero       Foraneo FGS  Rubrica_CyE  PromMate  \\\n0                   Otros  Masculino  SI: Nacional  No          0.0      88.0   \n1                   Otros  Masculino  SI: Nacional  No         40.0      76.0   \n2  Ingenierias y Ciencias  Masculino  SI: Nacional  No          0.0      57.5   \n3  Ingenierias y Ciencias  Masculino         Local  No          0.0      73.0   \n4                   Otros   Femenino  SI: Nacional  No          0.0      70.0   \n5  Ingenierias y Ciencias  Masculino         Local  No          0.0      79.0   \n6  Ingenierias y Ciencias   Femenino  SI: Nacional  No          0.0      87.0   \n7  Ingenierias y Ciencias  Masculino         Local  No          0.0      91.0   \n8                   Otros  Masculino         Local  Sí          0.0      75.0   \n9                   Otros   Femenino  SI: Nacional  No          0.0      87.5   \n\n   Ingles  FTE  P_Beca  P_Prestamo HijoMilitar Prog_Lider  Retencion1erA  \\\n0       7  1.0     0.0         0.0          NO         NO              0   \n1       7  1.0     0.0         0.0          NO         NO              1   \n2       7  1.0     0.0         0.0          NO         NO              1   \n3       7  1.0     0.0         0.0          NO         NO              1   \n4       7  1.0     0.0         0.0          NO         NO              1   \n5       1  1.0     0.4         0.2          NO         NO              1   \n6       1  1.0     0.0         0.0          NO         NO              1   \n7       1  1.0     0.2         0.2          NO         NO              1   \n8       1  1.0     0.0         0.0          NO         NO              1   \n9       1  1.0     0.0         0.0          NO         NO              1   \n\n   Prom1erSem  Prom2doSem   Prom1erA  \n0   70.000000    0.000000  70.000000  \n1   87.700000   88.000000  88.527778  \n2   75.333333   83.875000  81.918919  \n3   69.571429   81.000000  68.388889  \n4   88.333333   93.000000  90.666667  \n5   77.500000   82.888889  80.805556  \n6   81.750000   89.111111  85.472222  \n7   87.285714   93.222222  90.777778  \n8   87.500000   87.800000  87.805556  \n9   93.857143   93.750000  93.555556  ",
      "text/html": "<div>\n<style scoped>\n    .dataframe tbody tr th:only-of-type {\n        vertical-align: middle;\n    }\n\n    .dataframe tbody tr th {\n        vertical-align: top;\n    }\n\n    .dataframe thead th {\n        text-align: right;\n    }\n</style>\n<table border=\"1\" class=\"dataframe\">\n  <thead>\n    <tr style=\"text-align: right;\">\n      <th></th>\n      <th>Escuela</th>\n      <th>Genero</th>\n      <th>Foraneo</th>\n      <th>FGS</th>\n      <th>Rubrica_CyE</th>\n      <th>PromMate</th>\n      <th>Ingles</th>\n      <th>FTE</th>\n      <th>P_Beca</th>\n      <th>P_Prestamo</th>\n      <th>HijoMilitar</th>\n      <th>Prog_Lider</th>\n      <th>Retencion1erA</th>\n      <th>Prom1erSem</th>\n      <th>Prom2doSem</th>\n      <th>Prom1erA</th>\n    </tr>\n  </thead>\n  <tbody>\n    <tr>\n      <th>0</th>\n      <td>Otros</td>\n      <td>Masculino</td>\n      <td>SI: Nacional</td>\n      <td>No</td>\n      <td>0.0</td>\n      <td>88.0</td>\n      <td>7</td>\n      <td>1.0</td>\n      <td>0.0</td>\n      <td>0.0</td>\n      <td>NO</td>\n      <td>NO</td>\n      <td>0</td>\n      <td>70.000000</td>\n      <td>0.000000</td>\n      <td>70.000000</td>\n    </tr>\n    <tr>\n      <th>1</th>\n      <td>Otros</td>\n      <td>Masculino</td>\n      <td>SI: Nacional</td>\n      <td>No</td>\n      <td>40.0</td>\n      <td>76.0</td>\n      <td>7</td>\n      <td>1.0</td>\n      <td>0.0</td>\n      <td>0.0</td>\n      <td>NO</td>\n      <td>NO</td>\n      <td>1</td>\n      <td>87.700000</td>\n      <td>88.000000</td>\n      <td>88.527778</td>\n    </tr>\n    <tr>\n      <th>2</th>\n      <td>Ingenierias y Ciencias</td>\n      <td>Masculino</td>\n      <td>SI: Nacional</td>\n      <td>No</td>\n      <td>0.0</td>\n      <td>57.5</td>\n      <td>7</td>\n      <td>1.0</td>\n      <td>0.0</td>\n      <td>0.0</td>\n      <td>NO</td>\n      <td>NO</td>\n      <td>1</td>\n      <td>75.333333</td>\n      <td>83.875000</td>\n      <td>81.918919</td>\n    </tr>\n    <tr>\n      <th>3</th>\n      <td>Ingenierias y Ciencias</td>\n      <td>Masculino</td>\n      <td>Local</td>\n      <td>No</td>\n      <td>0.0</td>\n      <td>73.0</td>\n      <td>7</td>\n      <td>1.0</td>\n      <td>0.0</td>\n      <td>0.0</td>\n      <td>NO</td>\n      <td>NO</td>\n      <td>1</td>\n      <td>69.571429</td>\n      <td>81.000000</td>\n      <td>68.388889</td>\n    </tr>\n    <tr>\n      <th>4</th>\n      <td>Otros</td>\n      <td>Femenino</td>\n      <td>SI: Nacional</td>\n      <td>No</td>\n      <td>0.0</td>\n      <td>70.0</td>\n      <td>7</td>\n      <td>1.0</td>\n      <td>0.0</td>\n      <td>0.0</td>\n      <td>NO</td>\n      <td>NO</td>\n      <td>1</td>\n      <td>88.333333</td>\n      <td>93.000000</td>\n      <td>90.666667</td>\n    </tr>\n    <tr>\n      <th>5</th>\n      <td>Ingenierias y Ciencias</td>\n      <td>Masculino</td>\n      <td>Local</td>\n      <td>No</td>\n      <td>0.0</td>\n      <td>79.0</td>\n      <td>1</td>\n      <td>1.0</td>\n      <td>0.4</td>\n      <td>0.2</td>\n      <td>NO</td>\n      <td>NO</td>\n      <td>1</td>\n      <td>77.500000</td>\n      <td>82.888889</td>\n      <td>80.805556</td>\n    </tr>\n    <tr>\n      <th>6</th>\n      <td>Ingenierias y Ciencias</td>\n      <td>Femenino</td>\n      <td>SI: Nacional</td>\n      <td>No</td>\n      <td>0.0</td>\n      <td>87.0</td>\n      <td>1</td>\n      <td>1.0</td>\n      <td>0.0</td>\n      <td>0.0</td>\n      <td>NO</td>\n      <td>NO</td>\n      <td>1</td>\n      <td>81.750000</td>\n      <td>89.111111</td>\n      <td>85.472222</td>\n    </tr>\n    <tr>\n      <th>7</th>\n      <td>Ingenierias y Ciencias</td>\n      <td>Masculino</td>\n      <td>Local</td>\n      <td>No</td>\n      <td>0.0</td>\n      <td>91.0</td>\n      <td>1</td>\n      <td>1.0</td>\n      <td>0.2</td>\n      <td>0.2</td>\n      <td>NO</td>\n      <td>NO</td>\n      <td>1</td>\n      <td>87.285714</td>\n      <td>93.222222</td>\n      <td>90.777778</td>\n    </tr>\n    <tr>\n      <th>8</th>\n      <td>Otros</td>\n      <td>Masculino</td>\n      <td>Local</td>\n      <td>Sí</td>\n      <td>0.0</td>\n      <td>75.0</td>\n      <td>1</td>\n      <td>1.0</td>\n      <td>0.0</td>\n      <td>0.0</td>\n      <td>NO</td>\n      <td>NO</td>\n      <td>1</td>\n      <td>87.500000</td>\n      <td>87.800000</td>\n      <td>87.805556</td>\n    </tr>\n    <tr>\n      <th>9</th>\n      <td>Otros</td>\n      <td>Femenino</td>\n      <td>SI: Nacional</td>\n      <td>No</td>\n      <td>0.0</td>\n      <td>87.5</td>\n      <td>1</td>\n      <td>1.0</td>\n      <td>0.0</td>\n      <td>0.0</td>\n      <td>NO</td>\n      <td>NO</td>\n      <td>1</td>\n      <td>93.857143</td>\n      <td>93.750000</td>\n      <td>93.555556</td>\n    </tr>\n  </tbody>\n</table>\n</div>"
     },
     "execution_count": 82,
     "metadata": {},
     "output_type": "execute_result"
    }
   ],
   "source": [
    "# Delete all the rows that have 'Masculino' in the 'Genero' column\n",
    "# df = df[df['Genero'] != 'Masculino']\n",
    "df.head(10)"
   ],
   "metadata": {
    "collapsed": false,
    "pycharm": {
     "name": "#%%\n"
    }
   }
  },
  {
   "cell_type": "code",
   "execution_count": 83,
   "outputs": [
    {
     "name": "stdout",
     "output_type": "stream",
     "text": [
      "6 categorical columns: \n",
      " ['Escuela', 'Genero', 'Foraneo', 'FGS', 'HijoMilitar', 'Prog_Lider'] \n",
      "\n",
      "10 numerical columns: \n",
      " ['Rubrica_CyE', 'PromMate', 'Ingles', 'FTE', 'P_Beca', 'P_Prestamo', 'Retencion1erA', 'Prom1erSem', 'Prom2doSem', 'Prom1erA'] \n",
      "\n"
     ]
    }
   ],
   "source": [
    "#change objects to category and classify by dtypes\n",
    "categorical_columns = []\n",
    "numerical_columns = []\n",
    "\n",
    "for column in df.columns:\n",
    "    if df[column].dtype == 'object':\n",
    "        df = df.astype({f'{column}': 'category'})\n",
    "        categorical_columns.append(column)\n",
    "    else:\n",
    "        numerical_columns.append(column)\n",
    "\n",
    "print('{0} categorical columns: \\n {1} \\n'.format(len(categorical_columns),\n",
    "                                                  categorical_columns))\n",
    "print('{0} numerical columns: \\n {1} \\n'.format(len(numerical_columns),\n",
    "                                                numerical_columns))\n"
   ],
   "metadata": {
    "collapsed": false,
    "pycharm": {
     "name": "#%%\n"
    }
   }
  },
  {
   "cell_type": "code",
   "execution_count": 84,
   "outputs": [
    {
     "data": {
      "text/plain": "                   Escuela     Genero       Foraneo FGS  Rubrica_CyE  \\\n0                    Otros  Masculino  SI: Nacional  No          0.0   \n1                    Otros  Masculino  SI: Nacional  No         40.0   \n2   Ingenierias y Ciencias  Masculino  SI: Nacional  No          0.0   \n3   Ingenierias y Ciencias  Masculino         Local  No          0.0   \n4                    Otros   Femenino  SI: Nacional  No          0.0   \n5   Ingenierias y Ciencias  Masculino         Local  No          0.0   \n6   Ingenierias y Ciencias   Femenino  SI: Nacional  No          0.0   \n7   Ingenierias y Ciencias  Masculino         Local  No          0.0   \n8                    Otros  Masculino         Local  Sí          0.0   \n9                    Otros   Femenino  SI: Nacional  No          0.0   \n10                   Otros   Femenino         Local  No          0.0   \n11  Ingenierias y Ciencias  Masculino  SI: Nacional  No          0.0   \n12                   Otros  Masculino         Local  No          0.0   \n13  Ingenierias y Ciencias  Masculino         Local  No          0.0   \n14  Ingenierias y Ciencias  Masculino         Local  No          0.0   \n\n    PromMate  Ingles  FTE  P_Beca  P_Prestamo HijoMilitar Prog_Lider  \\\n0       88.0       7  1.0    0.00        0.00          NO         NO   \n1       76.0       7  1.0    0.00        0.00          NO         NO   \n2       57.5       7  1.0    0.00        0.00          NO         NO   \n3       73.0       7  1.0    0.00        0.00          NO         NO   \n4       70.0       7  1.0    0.00        0.00          NO         NO   \n5       79.0       1  1.0    0.40        0.20          NO         NO   \n6       87.0       1  1.0    0.00        0.00          NO         NO   \n7       91.0       1  1.0    0.20        0.20          NO         NO   \n8       75.0       1  1.0    0.00        0.00          NO         NO   \n9       87.5       1  1.0    0.00        0.00          NO         NO   \n10      87.0       1  1.0    0.00        0.00          NO         NO   \n11      78.0       1  1.0    0.00        0.00          NO         NO   \n12      82.0       1  1.0    0.15        0.15          NO         NO   \n13      74.0       1  1.0    0.00        0.25          NO         NO   \n14      93.5       1  1.0    0.45        0.25          NO         NO   \n\n    Retencion1erA  Prom1erSem  Prom2doSem   Prom1erA  \n0               0   70.000000    0.000000  70.000000  \n1               1   87.700000   88.000000  88.527778  \n2               1   75.333333   83.875000  81.918919  \n3               1   69.571429   81.000000  68.388889  \n4               1   88.333333   93.000000  90.666667  \n5               1   77.500000   82.888889  80.805556  \n6               1   81.750000   89.111111  85.472222  \n7               1   87.285714   93.222222  90.777778  \n8               1   87.500000   87.800000  87.805556  \n9               1   93.857143   93.750000  93.555556  \n10              1   86.600000   85.100000  86.944444  \n11              1   89.750000   90.125000  89.382353  \n12              1   84.555556   85.000000  84.638889  \n13              1   77.500000   82.888889  81.805556  \n14              1   93.000000   95.444444  93.111111  ",
      "text/html": "<div>\n<style scoped>\n    .dataframe tbody tr th:only-of-type {\n        vertical-align: middle;\n    }\n\n    .dataframe tbody tr th {\n        vertical-align: top;\n    }\n\n    .dataframe thead th {\n        text-align: right;\n    }\n</style>\n<table border=\"1\" class=\"dataframe\">\n  <thead>\n    <tr style=\"text-align: right;\">\n      <th></th>\n      <th>Escuela</th>\n      <th>Genero</th>\n      <th>Foraneo</th>\n      <th>FGS</th>\n      <th>Rubrica_CyE</th>\n      <th>PromMate</th>\n      <th>Ingles</th>\n      <th>FTE</th>\n      <th>P_Beca</th>\n      <th>P_Prestamo</th>\n      <th>HijoMilitar</th>\n      <th>Prog_Lider</th>\n      <th>Retencion1erA</th>\n      <th>Prom1erSem</th>\n      <th>Prom2doSem</th>\n      <th>Prom1erA</th>\n    </tr>\n  </thead>\n  <tbody>\n    <tr>\n      <th>0</th>\n      <td>Otros</td>\n      <td>Masculino</td>\n      <td>SI: Nacional</td>\n      <td>No</td>\n      <td>0.0</td>\n      <td>88.0</td>\n      <td>7</td>\n      <td>1.0</td>\n      <td>0.00</td>\n      <td>0.00</td>\n      <td>NO</td>\n      <td>NO</td>\n      <td>0</td>\n      <td>70.000000</td>\n      <td>0.000000</td>\n      <td>70.000000</td>\n    </tr>\n    <tr>\n      <th>1</th>\n      <td>Otros</td>\n      <td>Masculino</td>\n      <td>SI: Nacional</td>\n      <td>No</td>\n      <td>40.0</td>\n      <td>76.0</td>\n      <td>7</td>\n      <td>1.0</td>\n      <td>0.00</td>\n      <td>0.00</td>\n      <td>NO</td>\n      <td>NO</td>\n      <td>1</td>\n      <td>87.700000</td>\n      <td>88.000000</td>\n      <td>88.527778</td>\n    </tr>\n    <tr>\n      <th>2</th>\n      <td>Ingenierias y Ciencias</td>\n      <td>Masculino</td>\n      <td>SI: Nacional</td>\n      <td>No</td>\n      <td>0.0</td>\n      <td>57.5</td>\n      <td>7</td>\n      <td>1.0</td>\n      <td>0.00</td>\n      <td>0.00</td>\n      <td>NO</td>\n      <td>NO</td>\n      <td>1</td>\n      <td>75.333333</td>\n      <td>83.875000</td>\n      <td>81.918919</td>\n    </tr>\n    <tr>\n      <th>3</th>\n      <td>Ingenierias y Ciencias</td>\n      <td>Masculino</td>\n      <td>Local</td>\n      <td>No</td>\n      <td>0.0</td>\n      <td>73.0</td>\n      <td>7</td>\n      <td>1.0</td>\n      <td>0.00</td>\n      <td>0.00</td>\n      <td>NO</td>\n      <td>NO</td>\n      <td>1</td>\n      <td>69.571429</td>\n      <td>81.000000</td>\n      <td>68.388889</td>\n    </tr>\n    <tr>\n      <th>4</th>\n      <td>Otros</td>\n      <td>Femenino</td>\n      <td>SI: Nacional</td>\n      <td>No</td>\n      <td>0.0</td>\n      <td>70.0</td>\n      <td>7</td>\n      <td>1.0</td>\n      <td>0.00</td>\n      <td>0.00</td>\n      <td>NO</td>\n      <td>NO</td>\n      <td>1</td>\n      <td>88.333333</td>\n      <td>93.000000</td>\n      <td>90.666667</td>\n    </tr>\n    <tr>\n      <th>5</th>\n      <td>Ingenierias y Ciencias</td>\n      <td>Masculino</td>\n      <td>Local</td>\n      <td>No</td>\n      <td>0.0</td>\n      <td>79.0</td>\n      <td>1</td>\n      <td>1.0</td>\n      <td>0.40</td>\n      <td>0.20</td>\n      <td>NO</td>\n      <td>NO</td>\n      <td>1</td>\n      <td>77.500000</td>\n      <td>82.888889</td>\n      <td>80.805556</td>\n    </tr>\n    <tr>\n      <th>6</th>\n      <td>Ingenierias y Ciencias</td>\n      <td>Femenino</td>\n      <td>SI: Nacional</td>\n      <td>No</td>\n      <td>0.0</td>\n      <td>87.0</td>\n      <td>1</td>\n      <td>1.0</td>\n      <td>0.00</td>\n      <td>0.00</td>\n      <td>NO</td>\n      <td>NO</td>\n      <td>1</td>\n      <td>81.750000</td>\n      <td>89.111111</td>\n      <td>85.472222</td>\n    </tr>\n    <tr>\n      <th>7</th>\n      <td>Ingenierias y Ciencias</td>\n      <td>Masculino</td>\n      <td>Local</td>\n      <td>No</td>\n      <td>0.0</td>\n      <td>91.0</td>\n      <td>1</td>\n      <td>1.0</td>\n      <td>0.20</td>\n      <td>0.20</td>\n      <td>NO</td>\n      <td>NO</td>\n      <td>1</td>\n      <td>87.285714</td>\n      <td>93.222222</td>\n      <td>90.777778</td>\n    </tr>\n    <tr>\n      <th>8</th>\n      <td>Otros</td>\n      <td>Masculino</td>\n      <td>Local</td>\n      <td>Sí</td>\n      <td>0.0</td>\n      <td>75.0</td>\n      <td>1</td>\n      <td>1.0</td>\n      <td>0.00</td>\n      <td>0.00</td>\n      <td>NO</td>\n      <td>NO</td>\n      <td>1</td>\n      <td>87.500000</td>\n      <td>87.800000</td>\n      <td>87.805556</td>\n    </tr>\n    <tr>\n      <th>9</th>\n      <td>Otros</td>\n      <td>Femenino</td>\n      <td>SI: Nacional</td>\n      <td>No</td>\n      <td>0.0</td>\n      <td>87.5</td>\n      <td>1</td>\n      <td>1.0</td>\n      <td>0.00</td>\n      <td>0.00</td>\n      <td>NO</td>\n      <td>NO</td>\n      <td>1</td>\n      <td>93.857143</td>\n      <td>93.750000</td>\n      <td>93.555556</td>\n    </tr>\n    <tr>\n      <th>10</th>\n      <td>Otros</td>\n      <td>Femenino</td>\n      <td>Local</td>\n      <td>No</td>\n      <td>0.0</td>\n      <td>87.0</td>\n      <td>1</td>\n      <td>1.0</td>\n      <td>0.00</td>\n      <td>0.00</td>\n      <td>NO</td>\n      <td>NO</td>\n      <td>1</td>\n      <td>86.600000</td>\n      <td>85.100000</td>\n      <td>86.944444</td>\n    </tr>\n    <tr>\n      <th>11</th>\n      <td>Ingenierias y Ciencias</td>\n      <td>Masculino</td>\n      <td>SI: Nacional</td>\n      <td>No</td>\n      <td>0.0</td>\n      <td>78.0</td>\n      <td>1</td>\n      <td>1.0</td>\n      <td>0.00</td>\n      <td>0.00</td>\n      <td>NO</td>\n      <td>NO</td>\n      <td>1</td>\n      <td>89.750000</td>\n      <td>90.125000</td>\n      <td>89.382353</td>\n    </tr>\n    <tr>\n      <th>12</th>\n      <td>Otros</td>\n      <td>Masculino</td>\n      <td>Local</td>\n      <td>No</td>\n      <td>0.0</td>\n      <td>82.0</td>\n      <td>1</td>\n      <td>1.0</td>\n      <td>0.15</td>\n      <td>0.15</td>\n      <td>NO</td>\n      <td>NO</td>\n      <td>1</td>\n      <td>84.555556</td>\n      <td>85.000000</td>\n      <td>84.638889</td>\n    </tr>\n    <tr>\n      <th>13</th>\n      <td>Ingenierias y Ciencias</td>\n      <td>Masculino</td>\n      <td>Local</td>\n      <td>No</td>\n      <td>0.0</td>\n      <td>74.0</td>\n      <td>1</td>\n      <td>1.0</td>\n      <td>0.00</td>\n      <td>0.25</td>\n      <td>NO</td>\n      <td>NO</td>\n      <td>1</td>\n      <td>77.500000</td>\n      <td>82.888889</td>\n      <td>81.805556</td>\n    </tr>\n    <tr>\n      <th>14</th>\n      <td>Ingenierias y Ciencias</td>\n      <td>Masculino</td>\n      <td>Local</td>\n      <td>No</td>\n      <td>0.0</td>\n      <td>93.5</td>\n      <td>1</td>\n      <td>1.0</td>\n      <td>0.45</td>\n      <td>0.25</td>\n      <td>NO</td>\n      <td>NO</td>\n      <td>1</td>\n      <td>93.000000</td>\n      <td>95.444444</td>\n      <td>93.111111</td>\n    </tr>\n  </tbody>\n</table>\n</div>"
     },
     "execution_count": 84,
     "metadata": {},
     "output_type": "execute_result"
    }
   ],
   "source": [
    "def replace_categorical(df,\n",
    "                        col_name,\n",
    "                        category_lst):\n",
    "    cardinality = len(category_lst)\n",
    "\n",
    "    count = 0\n",
    "    for category in category_lst:\n",
    "        df[col_name].replace([category],\n",
    "                             [count / cardinality],\n",
    "                             inplace=True)\n",
    "        count += 1\n",
    "if mapCategorical:\n",
    "    for column in categorical_columns:\n",
    "        replace_categorical(df,\n",
    "                            column,\n",
    "                            df[column].unique())\n",
    "\n",
    "df.head(15)"
   ],
   "metadata": {
    "collapsed": false,
    "pycharm": {
     "name": "#%%\n"
    }
   }
  },
  {
   "cell_type": "code",
   "execution_count": 85,
   "outputs": [
    {
     "data": {
      "text/plain": "(                  Escuela     Genero       Foraneo FGS  Rubrica_CyE  PromMate  \\\n 0                   Otros  Masculino  SI: Nacional  No          0.0      88.0   \n 1                   Otros  Masculino  SI: Nacional  No         40.0      76.0   \n 2  Ingenierias y Ciencias  Masculino  SI: Nacional  No          0.0      57.5   \n 3  Ingenierias y Ciencias  Masculino         Local  No          0.0      73.0   \n 4                   Otros   Femenino  SI: Nacional  No          0.0      70.0   \n \n    Ingles  FTE  P_Beca  P_Prestamo HijoMilitar Prog_Lider  Retencion1erA  \\\n 0       7  1.0     0.0         0.0          NO         NO              0   \n 1       7  1.0     0.0         0.0          NO         NO              1   \n 2       7  1.0     0.0         0.0          NO         NO              1   \n 3       7  1.0     0.0         0.0          NO         NO              1   \n 4       7  1.0     0.0         0.0          NO         NO              1   \n \n    Prom1erSem  Prom2doSem   Prom1erA  \n 0   70.000000       0.000  70.000000  \n 1   87.700000      88.000  88.527778  \n 2   75.333333      83.875  81.918919  \n 3   69.571429      81.000  68.388889  \n 4   88.333333      93.000  90.666667  ,\n                       Escuela     Genero       Foraneo FGS  Rubrica_CyE  \\\n 12194                   Otros  Masculino  SI: Nacional  No         40.0   \n 12195  Ingenierias y Ciencias  Masculino         Local  No         48.0   \n 12196                   Otros  Masculino  SI: Nacional  Sí         40.0   \n 12197                   Otros   Femenino         Local  No         36.0   \n 12198                   Otros  Masculino  SI: Nacional  No         32.0   \n \n         PromMate  Ingles  FTE  P_Beca  P_Prestamo HijoMilitar Prog_Lider  \\\n 12194  82.745216       5  1.0     0.4        0.25          NO         NO   \n 12195  82.745216       6  1.0     0.9        0.00          NO         NO   \n 12196  82.745216       4  1.0     0.0        0.00          NO         NO   \n 12197  82.745216       2  1.0     0.4        0.00          NO         NO   \n 12198  82.745216       5  1.0     0.5        0.00          NO         NO   \n \n        Retencion1erA  Prom1erSem  Prom2doSem   Prom1erA  \n 12194              1   89.700000   96.666667  92.433333  \n 12195              1   78.428571   93.285714  86.527778  \n 12196              1   73.833333   83.166667  78.500000  \n 12197              0   91.000000    0.000000  91.400000  \n 12198              1   94.400000   93.000000  94.166667  )"
     },
     "execution_count": 85,
     "metadata": {},
     "output_type": "execute_result"
    }
   ],
   "source": [
    "df.head(5), df.tail(5)"
   ],
   "metadata": {
    "collapsed": false,
    "pycharm": {
     "name": "#%%\n"
    }
   }
  },
  {
   "cell_type": "code",
   "execution_count": 86,
   "outputs": [],
   "source": [
    "# Export the dataframe to a csv file\n",
    "df.to_csv('../data/cleaned/DB_1er_Año_CSV_Cleaned.csv',\n",
    "          index=False)"
   ],
   "metadata": {
    "collapsed": false,
    "pycharm": {
     "name": "#%%\n"
    }
   }
  }
 ],
 "metadata": {
  "kernelspec": {
   "display_name": "Python 3",
   "language": "python",
   "name": "python3"
  },
  "language_info": {
   "codemirror_mode": {
    "name": "ipython",
    "version": 2
   },
   "file_extension": ".py",
   "mimetype": "text/x-python",
   "name": "python",
   "nbconvert_exporter": "python",
   "pygments_lexer": "ipython2",
   "version": "2.7.6"
  }
 },
 "nbformat": 4,
 "nbformat_minor": 0
}