{
 "cells": [
  {
   "cell_type": "code",
   "execution_count": 1,
   "metadata": {
    "collapsed": true,
    "pycharm": {
     "name": "#%%\n"
    }
   },
   "outputs": [],
   "source": [
    "import pandas as pd;"
   ]
  },
  {
   "cell_type": "code",
   "execution_count": 2,
   "outputs": [
    {
     "data": {
      "text/plain": "    Escuela     Genero       Foraneo FGS  Rubrica_CyE  PromMate  Ingles  FTE  \\\n0  EHE-EAAD  Masculino  SI: Nacional  No          NaN      88.0       7  1.0   \n1      EMCS  Masculino  SI: Nacional  No         40.0      76.0       7  1.0   \n2  EAAD-EIC  Masculino  SI: Nacional  No          NaN      57.5       7  1.0   \n3       EIC  Masculino         Local  No          NaN      73.0       7  1.0   \n4  EHE-EAAD   Femenino  SI: Nacional  No          NaN      70.0       7  1.0   \n\n   P_Beca  P_Prestamo HijoMilitar Prog_Lider  Retencion1erA  Prom1erSem  \\\n0     0.0         0.0          NO         NO              0   70.000000   \n1     0.0         0.0          NO         NO              1   87.700000   \n2     0.0         0.0          NO         NO              1   75.333333   \n3     0.0         0.0          NO         NO              1   69.571429   \n4     0.0         0.0          NO         NO              1   88.333333   \n\n   Prom2doSem   Prom1erA  \n0       0.000  70.000000  \n1      88.000  88.527778  \n2      83.875  81.918919  \n3      81.000  68.388889  \n4      93.000  90.666667  ",
      "text/html": "<div>\n<style scoped>\n    .dataframe tbody tr th:only-of-type {\n        vertical-align: middle;\n    }\n\n    .dataframe tbody tr th {\n        vertical-align: top;\n    }\n\n    .dataframe thead th {\n        text-align: right;\n    }\n</style>\n<table border=\"1\" class=\"dataframe\">\n  <thead>\n    <tr style=\"text-align: right;\">\n      <th></th>\n      <th>Escuela</th>\n      <th>Genero</th>\n      <th>Foraneo</th>\n      <th>FGS</th>\n      <th>Rubrica_CyE</th>\n      <th>PromMate</th>\n      <th>Ingles</th>\n      <th>FTE</th>\n      <th>P_Beca</th>\n      <th>P_Prestamo</th>\n      <th>HijoMilitar</th>\n      <th>Prog_Lider</th>\n      <th>Retencion1erA</th>\n      <th>Prom1erSem</th>\n      <th>Prom2doSem</th>\n      <th>Prom1erA</th>\n    </tr>\n  </thead>\n  <tbody>\n    <tr>\n      <th>0</th>\n      <td>EHE-EAAD</td>\n      <td>Masculino</td>\n      <td>SI: Nacional</td>\n      <td>No</td>\n      <td>NaN</td>\n      <td>88.0</td>\n      <td>7</td>\n      <td>1.0</td>\n      <td>0.0</td>\n      <td>0.0</td>\n      <td>NO</td>\n      <td>NO</td>\n      <td>0</td>\n      <td>70.000000</td>\n      <td>0.000</td>\n      <td>70.000000</td>\n    </tr>\n    <tr>\n      <th>1</th>\n      <td>EMCS</td>\n      <td>Masculino</td>\n      <td>SI: Nacional</td>\n      <td>No</td>\n      <td>40.0</td>\n      <td>76.0</td>\n      <td>7</td>\n      <td>1.0</td>\n      <td>0.0</td>\n      <td>0.0</td>\n      <td>NO</td>\n      <td>NO</td>\n      <td>1</td>\n      <td>87.700000</td>\n      <td>88.000</td>\n      <td>88.527778</td>\n    </tr>\n    <tr>\n      <th>2</th>\n      <td>EAAD-EIC</td>\n      <td>Masculino</td>\n      <td>SI: Nacional</td>\n      <td>No</td>\n      <td>NaN</td>\n      <td>57.5</td>\n      <td>7</td>\n      <td>1.0</td>\n      <td>0.0</td>\n      <td>0.0</td>\n      <td>NO</td>\n      <td>NO</td>\n      <td>1</td>\n      <td>75.333333</td>\n      <td>83.875</td>\n      <td>81.918919</td>\n    </tr>\n    <tr>\n      <th>3</th>\n      <td>EIC</td>\n      <td>Masculino</td>\n      <td>Local</td>\n      <td>No</td>\n      <td>NaN</td>\n      <td>73.0</td>\n      <td>7</td>\n      <td>1.0</td>\n      <td>0.0</td>\n      <td>0.0</td>\n      <td>NO</td>\n      <td>NO</td>\n      <td>1</td>\n      <td>69.571429</td>\n      <td>81.000</td>\n      <td>68.388889</td>\n    </tr>\n    <tr>\n      <th>4</th>\n      <td>EHE-EAAD</td>\n      <td>Femenino</td>\n      <td>SI: Nacional</td>\n      <td>No</td>\n      <td>NaN</td>\n      <td>70.0</td>\n      <td>7</td>\n      <td>1.0</td>\n      <td>0.0</td>\n      <td>0.0</td>\n      <td>NO</td>\n      <td>NO</td>\n      <td>1</td>\n      <td>88.333333</td>\n      <td>93.000</td>\n      <td>90.666667</td>\n    </tr>\n  </tbody>\n</table>\n</div>"
     },
     "execution_count": 2,
     "metadata": {},
     "output_type": "execute_result"
    }
   ],
   "source": [
    "df = pd.read_csv('../data/DB_1er_Año_CSV.csv')\n",
    "\n",
    "# Delete unnecessary columns ('Folio', 'Periodo', 'Nivel', 'PrepaTEC', 'Edad')\n",
    "df.drop(['Folio', 'Periodo', 'Nivel', 'PrepaTEC', 'Edad'],\n",
    "        axis=1,\n",
    "        inplace=True)\n",
    "\n",
    "df.head(5)"
   ],
   "metadata": {
    "collapsed": false,
    "pycharm": {
     "name": "#%%\n"
    }
   }
  },
  {
   "cell_type": "code",
   "execution_count": 15,
   "outputs": [
    {
     "name": "stdout",
     "output_type": "stream",
     "text": [
      "PromMate         52.766620\n",
      "Rubrica_CyE      44.847938\n",
      "Prom1erA          0.991885\n",
      "Escuela           0.000000\n",
      "Genero            0.000000\n",
      "Foraneo           0.000000\n",
      "FGS               0.000000\n",
      "Ingles            0.000000\n",
      "FTE               0.000000\n",
      "P_Beca            0.000000\n",
      "P_Prestamo        0.000000\n",
      "HijoMilitar       0.000000\n",
      "Prog_Lider        0.000000\n",
      "Retencion1erA     0.000000\n",
      "Prom1erSem        0.000000\n",
      "Prom2doSem        0.000000\n",
      "dtype: float64\n"
     ]
    }
   ],
   "source": [
    "number_of_rows = df.shape[0]\n",
    "\n",
    "# Display the percentage of empty values of each column\n",
    "percentage_null_values_for_column = (df.isnull().sum() / number_of_rows) * 100\n",
    "# Sort the values by the percentage of null values\n",
    "percentage_null_values_for_column = percentage_null_values_for_column.sort_values(ascending=False)\n",
    "print(percentage_null_values_for_column)"
   ],
   "metadata": {
    "collapsed": false,
    "pycharm": {
     "name": "#%%\n"
    }
   }
  },
  {
   "cell_type": "code",
   "execution_count": 18,
   "outputs": [],
   "source": [
    "# Replace the null values with the mean of the column 'PromMate'\n",
    "df['PromMate'].fillna(df['PromMate'].mean(), inplace=True)\n",
    "\n",
    "# Fill 'Rubrica_CyE' and 'prom1erA' with 0\n",
    "df['Rubrica_CyE'].fillna(0, inplace=True)\n",
    "df['Prom1erA'].fillna(0, inplace=True)"
   ],
   "metadata": {
    "collapsed": false,
    "pycharm": {
     "name": "#%%\n"
    }
   }
  },
  {
   "cell_type": "code",
   "execution_count": null,
   "outputs": [],
   "source": [],
   "metadata": {
    "collapsed": false,
    "pycharm": {
     "name": "#%%\n"
    }
   }
  },
  {
   "cell_type": "code",
   "execution_count": 20,
   "outputs": [],
   "source": [
    "# Replace all the non Engineering and Science related columns with 'Otros'\n",
    "df[\"Escuela\"].replace(['EHE-EAAD', 'EMCS', 'ECSG', 'EN', 'ENE'],\n",
    "                      'Otros',\n",
    "                      inplace=True)\n",
    "\n",
    "# Replace all the Engineering and Science related columns with 'Ingenierias y Ciencias'\n",
    "df[\"Escuela\"].replace(['EIC', 'EAAD-EIC'],\n",
    "                      'Ingenierias y Ciencias',\n",
    "                      inplace=True)"
   ],
   "metadata": {
    "collapsed": false,
    "pycharm": {
     "name": "#%%# Replace EHE-EAAD, ECSG, EN and ENE with # Replace EHE-EAAD, ECSG, EN and ENE with OTHER\n"
    }
   }
  },
  {
   "cell_type": "code",
   "execution_count": 21,
   "outputs": [
    {
     "data": {
      "text/plain": "                   Escuela    Genero       Foraneo FGS  Rubrica_CyE  PromMate  \\\n4                    Otros  Femenino  SI: Nacional  No          0.0      70.0   \n6   Ingenierias y Ciencias  Femenino  SI: Nacional  No          0.0      87.0   \n9                    Otros  Femenino  SI: Nacional  No          0.0      87.5   \n10                   Otros  Femenino         Local  No          0.0      87.0   \n15                   Otros  Femenino         Local  No          0.0      85.5   \n18                   Otros  Femenino  SI: Nacional  No          0.0      96.0   \n20                   Otros  Femenino         Local  No          0.0      77.5   \n21                   Otros  Femenino         Local  No          0.0      75.0   \n24                   Otros  Femenino         Local  No          0.0      74.5   \n25                   Otros  Femenino         Local  No          0.0      76.5   \n\n    Ingles  FTE  P_Beca  P_Prestamo HijoMilitar Prog_Lider  Retencion1erA  \\\n4        7  1.0    0.00        0.00          NO         NO              1   \n6        1  1.0    0.00        0.00          NO         NO              1   \n9        1  1.0    0.00        0.00          NO         NO              1   \n10       1  1.0    0.00        0.00          NO         NO              1   \n15       1  1.0    0.20        0.20          NO         NO              1   \n18       1  1.0    0.00        0.00          NO         NO              0   \n20       1  1.0    0.25        0.25          NO         NO              0   \n21       1  1.0    0.00        0.00          NO         NO              0   \n24       1  1.0    0.40        0.20          NO         NO              1   \n25       1  1.0    0.00        0.25          NO         NO              1   \n\n    Prom1erSem  Prom2doSem   Prom1erA  \n4    88.333333   93.000000  90.666667  \n6    81.750000   89.111111  85.472222  \n9    93.857143   93.750000  93.555556  \n10   86.600000   85.100000  86.944444  \n15   90.000000   88.600000  89.666667  \n18   90.300000    0.000000  89.944444  \n20   84.000000    0.000000  86.571429  \n21   73.666667    0.000000  79.000000  \n24   83.000000   85.100000  84.972222  \n25   86.000000   87.600000  87.111111  ",
      "text/html": "<div>\n<style scoped>\n    .dataframe tbody tr th:only-of-type {\n        vertical-align: middle;\n    }\n\n    .dataframe tbody tr th {\n        vertical-align: top;\n    }\n\n    .dataframe thead th {\n        text-align: right;\n    }\n</style>\n<table border=\"1\" class=\"dataframe\">\n  <thead>\n    <tr style=\"text-align: right;\">\n      <th></th>\n      <th>Escuela</th>\n      <th>Genero</th>\n      <th>Foraneo</th>\n      <th>FGS</th>\n      <th>Rubrica_CyE</th>\n      <th>PromMate</th>\n      <th>Ingles</th>\n      <th>FTE</th>\n      <th>P_Beca</th>\n      <th>P_Prestamo</th>\n      <th>HijoMilitar</th>\n      <th>Prog_Lider</th>\n      <th>Retencion1erA</th>\n      <th>Prom1erSem</th>\n      <th>Prom2doSem</th>\n      <th>Prom1erA</th>\n    </tr>\n  </thead>\n  <tbody>\n    <tr>\n      <th>4</th>\n      <td>Otros</td>\n      <td>Femenino</td>\n      <td>SI: Nacional</td>\n      <td>No</td>\n      <td>0.0</td>\n      <td>70.0</td>\n      <td>7</td>\n      <td>1.0</td>\n      <td>0.00</td>\n      <td>0.00</td>\n      <td>NO</td>\n      <td>NO</td>\n      <td>1</td>\n      <td>88.333333</td>\n      <td>93.000000</td>\n      <td>90.666667</td>\n    </tr>\n    <tr>\n      <th>6</th>\n      <td>Ingenierias y Ciencias</td>\n      <td>Femenino</td>\n      <td>SI: Nacional</td>\n      <td>No</td>\n      <td>0.0</td>\n      <td>87.0</td>\n      <td>1</td>\n      <td>1.0</td>\n      <td>0.00</td>\n      <td>0.00</td>\n      <td>NO</td>\n      <td>NO</td>\n      <td>1</td>\n      <td>81.750000</td>\n      <td>89.111111</td>\n      <td>85.472222</td>\n    </tr>\n    <tr>\n      <th>9</th>\n      <td>Otros</td>\n      <td>Femenino</td>\n      <td>SI: Nacional</td>\n      <td>No</td>\n      <td>0.0</td>\n      <td>87.5</td>\n      <td>1</td>\n      <td>1.0</td>\n      <td>0.00</td>\n      <td>0.00</td>\n      <td>NO</td>\n      <td>NO</td>\n      <td>1</td>\n      <td>93.857143</td>\n      <td>93.750000</td>\n      <td>93.555556</td>\n    </tr>\n    <tr>\n      <th>10</th>\n      <td>Otros</td>\n      <td>Femenino</td>\n      <td>Local</td>\n      <td>No</td>\n      <td>0.0</td>\n      <td>87.0</td>\n      <td>1</td>\n      <td>1.0</td>\n      <td>0.00</td>\n      <td>0.00</td>\n      <td>NO</td>\n      <td>NO</td>\n      <td>1</td>\n      <td>86.600000</td>\n      <td>85.100000</td>\n      <td>86.944444</td>\n    </tr>\n    <tr>\n      <th>15</th>\n      <td>Otros</td>\n      <td>Femenino</td>\n      <td>Local</td>\n      <td>No</td>\n      <td>0.0</td>\n      <td>85.5</td>\n      <td>1</td>\n      <td>1.0</td>\n      <td>0.20</td>\n      <td>0.20</td>\n      <td>NO</td>\n      <td>NO</td>\n      <td>1</td>\n      <td>90.000000</td>\n      <td>88.600000</td>\n      <td>89.666667</td>\n    </tr>\n    <tr>\n      <th>18</th>\n      <td>Otros</td>\n      <td>Femenino</td>\n      <td>SI: Nacional</td>\n      <td>No</td>\n      <td>0.0</td>\n      <td>96.0</td>\n      <td>1</td>\n      <td>1.0</td>\n      <td>0.00</td>\n      <td>0.00</td>\n      <td>NO</td>\n      <td>NO</td>\n      <td>0</td>\n      <td>90.300000</td>\n      <td>0.000000</td>\n      <td>89.944444</td>\n    </tr>\n    <tr>\n      <th>20</th>\n      <td>Otros</td>\n      <td>Femenino</td>\n      <td>Local</td>\n      <td>No</td>\n      <td>0.0</td>\n      <td>77.5</td>\n      <td>1</td>\n      <td>1.0</td>\n      <td>0.25</td>\n      <td>0.25</td>\n      <td>NO</td>\n      <td>NO</td>\n      <td>0</td>\n      <td>84.000000</td>\n      <td>0.000000</td>\n      <td>86.571429</td>\n    </tr>\n    <tr>\n      <th>21</th>\n      <td>Otros</td>\n      <td>Femenino</td>\n      <td>Local</td>\n      <td>No</td>\n      <td>0.0</td>\n      <td>75.0</td>\n      <td>1</td>\n      <td>1.0</td>\n      <td>0.00</td>\n      <td>0.00</td>\n      <td>NO</td>\n      <td>NO</td>\n      <td>0</td>\n      <td>73.666667</td>\n      <td>0.000000</td>\n      <td>79.000000</td>\n    </tr>\n    <tr>\n      <th>24</th>\n      <td>Otros</td>\n      <td>Femenino</td>\n      <td>Local</td>\n      <td>No</td>\n      <td>0.0</td>\n      <td>74.5</td>\n      <td>1</td>\n      <td>1.0</td>\n      <td>0.40</td>\n      <td>0.20</td>\n      <td>NO</td>\n      <td>NO</td>\n      <td>1</td>\n      <td>83.000000</td>\n      <td>85.100000</td>\n      <td>84.972222</td>\n    </tr>\n    <tr>\n      <th>25</th>\n      <td>Otros</td>\n      <td>Femenino</td>\n      <td>Local</td>\n      <td>No</td>\n      <td>0.0</td>\n      <td>76.5</td>\n      <td>1</td>\n      <td>1.0</td>\n      <td>0.00</td>\n      <td>0.25</td>\n      <td>NO</td>\n      <td>NO</td>\n      <td>1</td>\n      <td>86.000000</td>\n      <td>87.600000</td>\n      <td>87.111111</td>\n    </tr>\n  </tbody>\n</table>\n</div>"
     },
     "execution_count": 21,
     "metadata": {},
     "output_type": "execute_result"
    }
   ],
   "source": [
    "# Delete all the rows that have 'Masculino' in the 'Genero' column\n",
    "df = df[df['Genero'] != 'Masculino']\n",
    "df.head(10)"
   ],
   "metadata": {
    "collapsed": false,
    "pycharm": {
     "name": "#%%\n"
    }
   }
  },
  {
   "cell_type": "code",
   "execution_count": 22,
   "outputs": [
    {
     "name": "stdout",
     "output_type": "stream",
     "text": [
      "<class 'pandas.core.frame.DataFrame'>\n",
      "Int64Index: 5568 entries, 4 to 12197\n",
      "Data columns (total 16 columns):\n",
      " #   Column         Non-Null Count  Dtype  \n",
      "---  ------         --------------  -----  \n",
      " 0   Escuela        5568 non-null   object \n",
      " 1   Genero         5568 non-null   object \n",
      " 2   Foraneo        5568 non-null   object \n",
      " 3   FGS            5568 non-null   object \n",
      " 4   Rubrica_CyE    5568 non-null   float64\n",
      " 5   PromMate       5568 non-null   float64\n",
      " 6   Ingles         5568 non-null   int64  \n",
      " 7   FTE            5568 non-null   float64\n",
      " 8   P_Beca         5568 non-null   float64\n",
      " 9   P_Prestamo     5568 non-null   float64\n",
      " 10  HijoMilitar    5568 non-null   object \n",
      " 11  Prog_Lider     5568 non-null   object \n",
      " 12  Retencion1erA  5568 non-null   int64  \n",
      " 13  Prom1erSem     5568 non-null   float64\n",
      " 14  Prom2doSem     5568 non-null   float64\n",
      " 15  Prom1erA       5568 non-null   float64\n",
      "dtypes: float64(8), int64(2), object(6)\n",
      "memory usage: 739.5+ KB\n"
     ]
    }
   ],
   "source": [
    "# Check for each if it column can be converted to numeric, if so, convert it\n",
    "for column in df.columns:\n",
    "    if df[column].dtype == 'string':\n",
    "        try:\n",
    "            df[column] = pd.to_numeric(df[column])\n",
    "        except ValueError:\n",
    "            pass\n",
    "\n",
    "df.info()"
   ],
   "metadata": {
    "collapsed": false,
    "pycharm": {
     "name": "#%%\n"
    }
   }
  },
  {
   "cell_type": "code",
   "execution_count": 28,
   "outputs": [],
   "source": [
    "# Export the dataframe to a csv file\n",
    "df.to_csv('../data/cleaned/DB_1er_Año_CSV_Cleaned.csv', index=False)"
   ],
   "metadata": {
    "collapsed": false,
    "pycharm": {
     "name": "#%%\n"
    }
   }
  }
 ],
 "metadata": {
  "kernelspec": {
   "display_name": "Python 3",
   "language": "python",
   "name": "python3"
  },
  "language_info": {
   "codemirror_mode": {
    "name": "ipython",
    "version": 2
   },
   "file_extension": ".py",
   "mimetype": "text/x-python",
   "name": "python",
   "nbconvert_exporter": "python",
   "pygments_lexer": "ipython2",
   "version": "2.7.6"
  }
 },
 "nbformat": 4,
 "nbformat_minor": 0
}